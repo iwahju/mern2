{
  "cells": [
    {
      "cell_type": "markdown",
      "metadata": {
        "colab_type": "text",
        "id": "view-in-github"
      },
      "source": [
        "<a href=\"https://colab.research.google.com/github/iwahju/virtualFridge/blob/main/DataClasses.ipynb\" target=\"_parent\"><img src=\"https://colab.research.google.com/assets/colab-badge.svg\" alt=\"Open In Colab\"/></a>"
      ]
    },
    {
      "cell_type": "markdown",
      "metadata": {
        "id": "-TipUOxy8Fc0"
      },
      "source": [
        "Ingredient Class <br> Some Notes: <br> I made the unit default value a string that says 'None' because some ingredients won't have a unit -- like carrots <br> I think that my coding of catching type errors might be kinda silly? But I put it in anyways"
      ]
    },
    {
      "cell_type": "code",
      "execution_count": null,
      "metadata": {
        "id": "I43p2n0v79ti"
      },
      "outputs": [],
      "source": [
        "class Ingredient:\n",
        "    \n",
        "    def __init__(self, name, quantity, unit = 'None'):\n",
        "        \n",
        "        #Constructor (String name, Int/Float Quantity, Unit (if available))\n",
        "\n",
        "        # make sure name is a string\n",
        "        if type(name) is not str:                                                #Throw exception if not type\n",
        "            print('The name of an ingredient must be a string')\n",
        "        else:\n",
        "          \n",
        "            self.name = name.lower()\n",
        "        \n",
        "        # make sure quantity in a number\n",
        "        if type(quantity) is not int:\n",
        "            if type(quantity) is not float:\n",
        "                print('The quantity of an ingredient must be a number')\n",
        "            else:\n",
        "                self.quantity = quantity\n",
        "        else:\n",
        "            self.quantity = quantity\n",
        "      \n",
        "        # make sure unit is a string\n",
        "        if type(unit) is not str:\n",
        "            print('The unit of an ingredient\\'s quantity  must be a string')\n",
        "        else:\n",
        "          self.unit = unit.lower()\n",
        "    \n",
        "    # add a quantity of the ingredient\n",
        "    def add_quantity(self, newQuantity):\n",
        "      #convert_Unit()\n",
        "      self.quantity += newQuantity\n",
        "\n",
        "    # remove a quantity of the ingredient\n",
        "    def remove_quantity(self, newQuantity):\n",
        "      #convert_Unit()\n",
        "      self.quantity -= newQuantity\n",
        "\n",
        "    def convert_unit(self, unit):\n",
        "      if self.unit is 'None' or self.unit is unit:\n",
        "        return \n",
        "      quantity=self.quantity\n",
        "      dryWeights = ['gram', 'kilogram', 'pound', 'ounce']\n",
        "      wetWeights = ['gallon', 'quart', 'pint', 'cup', 'fluid ounce', 'tablespoon', 'teaspoon', 'liter', 'milliliter']\n",
        "      if self.unit in dryWeights and unit in dryWeights:\n",
        "        if self.unit == 'kilogram':\n",
        "          quantity*=1000\n",
        "        elif self.unit == 'pound':\n",
        "          quantity*=453.592\n",
        "        elif self.unit == 'ounce':\n",
        "          quantity*=28.3495\n",
        "\n",
        "      elif self.unit in wetWeights and unit in wetWeights:\n",
        "        if self.unit is 'liter' :\n",
        "          quantity*=1000\n",
        "        elif self.unit == 'cup':\n",
        "          quantity*=240\n",
        "        elif self.unit == 'pint':\n",
        "          quantity*=473\n",
        "        elif self.unit == 'quart':\n",
        "          quantity*=946.4\n",
        "        elif self.unit == 'gallon':\n",
        "          quantity*=3785\n",
        "        elif self.unit == 'fluid ounce':\n",
        "          quantity*=29.574\n",
        "        elif self.unit == 'tablespoon':\n",
        "          quantity*=14.787\n",
        "        elif self.unit == 'teaspoon':\n",
        "          quantity*=4.929\n",
        "      else:\n",
        "        raise Exception('Ingredient unit incompatible: Different ingredient units detected')\n",
        "      \n",
        "      self.unit=unit\n",
        "      if self.unit in dryWeights:\n",
        "        if self.unit == 'kilogram':\n",
        "          quantity/=1000\n",
        "        elif self.unit == 'pound':\n",
        "          quantity/=453.592\n",
        "        elif self.unit == 'ounce':\n",
        "          quantity/=28.3495\n",
        "\n",
        "      elif self.unit in wetWeights:\n",
        "        if self.unit == 'liter':\n",
        "          quantity/=1000\n",
        "        elif self.unit == 'cup':\n",
        "          quantity/=240\n",
        "        elif self.unit == 'pint':\n",
        "          quantity/=473\n",
        "        elif self.unit == 'quart':\n",
        "          quantity/=946.4\n",
        "        elif self.unit == 'gallon':\n",
        "          quantity/=3785\n",
        "        elif self.unit == 'fluid ounce':\n",
        "          quantity/=29.574\n",
        "        elif self.unit == 'tablespoon':\n",
        "          quantity/=14.787\n",
        "        elif self.unit == 'teaspoon':\n",
        "          quantity/=4.929\n",
        "          quantity=round(quantity,3)\n",
        "      self.quantity=quantity\n",
        "    \n",
        "\n",
        "    \n",
        "\n"
      ]
    },
    {
      "cell_type": "code",
      "execution_count": null,
      "metadata": {
        "colab": {
          "base_uri": "https://localhost:8080/"
        },
        "id": "_SpAZF9tZ4Ww",
        "outputId": "24f981c8-a983-4ef3-ffdd-ef0906e0d191"
      },
      "outputs": [
        {
          "name": "stdout",
          "output_type": "stream",
          "text": [
            "fluid ounce\n",
            "10\n",
            "milliliter\n",
            "295.74\n"
          ]
        }
      ],
      "source": [
        "i1 = Ingredient('soy sauce', 10, 'fluid ounce')\n",
        "print(i1.unit)\n",
        "print(i1.quantity)\n",
        "i1.convert_unit(\"milliliter\")\n",
        "print(i1.unit)\n",
        "print(round(i1.quantity,3))"
      ]
    },
    {
      "cell_type": "code",
      "execution_count": null,
      "metadata": {
        "id": "apzCgwVQvnfN"
      },
      "outputs": [],
      "source": [
        "class FridgeIngredient:\n",
        "  def __init__(self, name, quantity, unit, goodFor, tag):\n",
        "    if type(name) is not str:\n",
        "      raise Exception('Ingredient name cannot be blank')\n",
        "    else:\n",
        "      self.name = name.lower()\n",
        "    \n",
        "    if type(goodFor) is not int:\n",
        "      raise Exception('Ingredient must have shelf life')\n",
        "    else:\n",
        "      self.goodFor = goodFor\n",
        "\n",
        "    if type(quantity) is not int:\n",
        "            if type(quantity) is not float:\n",
        "                print('The quantity of an ingredient must be a number')\n",
        "            else:\n",
        "                self.quantity = quantity\n",
        "    else:\n",
        "      self.quantity = quantity\n",
        "\n",
        "    # tag for fridge or pantry display on front end      \n",
        "    self.tag = tag\n",
        "\n",
        "    self.unit = unit\n",
        "\n",
        "  #store ingredient in fridge. Assuming same goodFor days (if different, create another new FridgeIngredient entry). This uncommented code ignores unit conversion\n",
        "  def store_quantity(self, quantity):\n",
        "      self.quantity += quantity\n",
        "\n",
        "  #take ingredient from fridge\n",
        "  def take_quantity(self, quantity):\n",
        "      self.quantity -= quantity\n",
        "\n",
        "\n",
        "# \"\"\"\n",
        "#     #code considering conversions to be completed\n",
        "\n",
        "# from array import *\n",
        "\n",
        "#   #store ingredient in fridge. Assuming same goodFor days\n",
        "#   def store_quantity(self, quantity, unit):\n",
        "#     convertedQuantity = convery_unit(self, quantity, unit)\n",
        "#     self.ingredient.quantity += convertedQuantity\n",
        "\n",
        "#   #take ingredient from fridge\n",
        "#   def take_quantity(self, quantity, unit):\n",
        "#     convertedQuantity = convery_unit(self, quantity, unit)\n",
        "#     self.ingredient.quantity -= convertedQuantity\n",
        "\n",
        "#   def convert_unit(self, quantity, unit)\n",
        "\n",
        "#     dryWeights = [pound, ounce, kilogram, gram]\n",
        "#     dryConversion = [1.0, 16.0, 0.453592, 453.592]\n",
        "\n",
        "#     if self.unit is 'None':\n",
        "#       return quantity\n",
        "#     if unit is 'None' and self.unit is not 'None':\n",
        "#       raise Exception('Ingredient unit incompatible: Must declare ingredient units')\n",
        "#     if self.unit and unit in dryWeights:\n",
        "#       if unit is pound:\n",
        "#         a = 0\n",
        "#       if unit is ounce:\n",
        "#         a = 1\n",
        "#       if unit is kilogram:\n",
        "#         a = 2\n",
        "#       if unit is gram:\n",
        "#         a = 3\n",
        "#       if self.unit is pound:\n",
        "#         b = 0\n",
        "#       if self.unit is ounce:\n",
        "#         b = 1\n",
        "#       if self.unit is kilogram:\n",
        "#         b = 2\n",
        "#       if self.unit is gram:\n",
        "#         b = 3\n",
        "#       return int ((float)quantity / (float)dryConversion[a] * (float)dryConversion[b])\n",
        "#     if self.unit and unit in liquidVolumes:\n",
        "#       //should be about the same thing but 9 times complexity (gallon, quart, pint, cup, tablespoons, teaspoons, fluid oz, liters, milliliters)\n",
        "#     if self.unit is not unit:\n",
        "#       raise Exception('Ingredient unit incompatible: Different ingredient units detected')\n",
        "\n",
        "#     #give up case\n",
        "#     return quantity\n",
        "# \"\"\""
      ]
    },
    {
      "cell_type": "code",
      "execution_count": null,
      "metadata": {
        "id": "nFCAQHJhG_Yi"
      },
      "outputs": [],
      "source": [
        "# global recipeCounter\n",
        "\n",
        "class Recipe:\n",
        "  def __init__(self, name, vegetarian, vegan, dairyFree, glutenFree, nutFree, difficulty, time, ingredients, steps, goodForFridge, goodForFreezer, spice = None):\n",
        "    # make sure name is a string\n",
        "        if type(name) is not str:\n",
        "            print('The name of an ingredient must be a string')\n",
        "        else:\n",
        "            self.name = name\n",
        "    # Creation of recipe\n",
        "        self.difficulty = difficulty \n",
        "        self.time = time\n",
        "        self.ingredients = ingredients\n",
        "        self.steps = steps\n",
        "        self.goodForFridge = goodForFridge\n",
        "        self.goodForFreezer = goodForFreezer\n",
        "        self.spice = spice\n",
        "        self.vegetarian = vegetarian\n",
        "        self.vegan = vegan\n",
        "        self.dairyFree = dairyFree\n",
        "        self.glutenFree = glutenFree\n",
        "        self.nutFree = nutFree\n",
        "        #recipeCounter += 1\n",
        "\n",
        "  # returns list of ingredients\n",
        "  def returnRecipeIngredients(self):\n",
        "    return self.ingredients\n",
        "\n",
        "  def returnRecipeSteps(self):\n",
        "    return self.steps\n",
        "  \n",
        "  def printRecipeIngredients(self):\n",
        "    for i in range(len(self.ingredients)):\n",
        "      print(self.ingredients[i].name)\n",
        "\n",
        "  def printRecipeSteps(self):\n",
        "    for i in self.steps.values():\n",
        "      print(i)\n",
        "  \n",
        "  # returns a recipe object based on user input\n",
        "  def createRecipe(): \n",
        "    while True:\n",
        "      print('Do you want to create a new Recipe?\\n[y/n]')\n",
        "      ui = input('\\n >> ')\n",
        "      if (ui == 'n'):\n",
        "        break\n",
        "      \n",
        "      print('What is the name of your recipe?')\n",
        "      ui = input('\\n >> ')\n",
        "      title = ui\n",
        "\n",
        "      veggie = False\n",
        "      print('Is your recipe vegetarian?\\n[y/n]')\n",
        "      ui = input('\\n >> ')\n",
        "      if (ui == 'y'):\n",
        "        veggie = True\n",
        "\n",
        "      vegan = False\n",
        "      print('Is your recipe vegan?\\n[y/n]')\n",
        "      ui = input('\\n >> ')\n",
        "      if (ui == 'y'):\n",
        "        vegan = True\n",
        "\n",
        "      dairyF = False\n",
        "      print('Is your recipe dairy-free?\\n[y/n]')\n",
        "      ui = input('\\n >> ')\n",
        "      if (ui == 'y'):\n",
        "        dairyF = True\n",
        "\n",
        "      nutsInMe = False\n",
        "      print('Is your recipe nut free?\\n[y/n]')\n",
        "      ui = input('\\n >> ')\n",
        "      if (ui == 'y'):\n",
        "        nutsInMe = True\n",
        "      \n",
        "      glutenF = False\n",
        "      print('Is your recipe gluten-free?\\n[y/n]')\n",
        "      ui = input('\\n >> ')\n",
        "      if (ui == 'y'):\n",
        "        glutenF = True\n",
        "\n",
        "      print('How difficult is your recipe?\\n[1-5, 5 being hardest]')\n",
        "      ui = input('\\n >> ')\n",
        "      difficult = int(ui)\n",
        "\n",
        "      print('How spicy is your recipe?\\n[0-3, 3 being very very spicy, 0 being not spicy]')\n",
        "      ui = input('\\n >> ')\n",
        "      spicy = int(ui)\n",
        "\n",
        "      print('How long does your recipe take to make?\\n[Time in minutes]')\n",
        "      ui = input('\\n >> ')\n",
        "      length = int(ui)\n",
        "\n",
        "      print('How many days is your recipe good for in the fridge?\\n[A number of days]')\n",
        "      ui = input('\\n >> ')\n",
        "      good4Fridge = int(ui)\n",
        " \n",
        "      print('How many days is your recipe good for if you freeze it?\\n[A number of days]')\n",
        "      ui = input('\\n >> ')\n",
        "      good4Freezer = int(ui)\n",
        "\n",
        "      ingredientsList = []\n",
        "      print('What ingredients are needed for your recipe?\\n[write one ingredient at a time]')\n",
        "      while True:\n",
        "        print('What is the name of the ingredient?')\n",
        "        ui = input('\\n >> ')\n",
        "        name = ui\n",
        "        print('How much of this ingredient?\\n[a number]')\n",
        "        ui = input('\\n >> ')\n",
        "        quantity = int(ui)\n",
        "        print('Does this ingredient have an associated unit?\\n[If not write \\'n\\']')\n",
        "        ui = input('\\n >> ')\n",
        "        if (ui == 'n'):\n",
        "          unit = 'None'\n",
        "        else:\n",
        "          unit = ui\n",
        "\n",
        "        i1 = Ingredient(name, quantity, unit)\n",
        "        ingredientsList.append(i1)\n",
        "\n",
        "        print('Do you need to add more ingredients?\\n[y/n]')\n",
        "        ui = input('\\n >> ')\n",
        "        if (ui == 'n'):\n",
        "          break\n",
        "        else:\n",
        "          continue\n",
        "\n",
        "      stepsDict = {} \n",
        "      i = 1\n",
        "      print('Let\\'s write the steps for this recipe!')\n",
        "      while True:\n",
        "        print('What\\'s the next step?\\n[Just write the step, no special instructions!]')\n",
        "        ui = input('\\n >> ')\n",
        "        stepsDict[i] = ui\n",
        "        i += 1\n",
        "        print('Are there more steps?\\n[y/n]')\n",
        "        ui = input('\\n >> ')\n",
        "        if (ui == 'n'):\n",
        "          break\n",
        "        else:\n",
        "          continue\n",
        "      print('You\\'re all done!')\n",
        "      return Recipe(title, veggie, vegan, dairyF, glutenF, nutsInMe, difficult, length, ingredientsList, stepsDict, good4Fridge, good4Freezer, spicy)\n",
        "\n",
        "\n",
        "\n",
        "      "
      ]
    },
    {
      "cell_type": "code",
      "execution_count": null,
      "metadata": {
        "id": "-byTSSKb_ut8"
      },
      "outputs": [],
      "source": [
        "class Fridge:\n",
        "  def __init__(self, items):\n",
        "    if type(items) is not list:\n",
        "      print('Items in the frige must be a list of Ingredients')\n",
        "    else:\n",
        "      self.items = items\n",
        "    self.itemNames = []\n",
        "    for i in self.items:\n",
        "      self.itemNames.append(i.name)\n",
        "  \n",
        "  def addItem(self, newItem):\n",
        "    if type(newItem) is not FridgeIngredient:\n",
        "      print('Items in the frige must be an Ingredient')\n",
        "    else:\n",
        "      self.items.append(newItem)\n",
        "      self.itemNames.append(newItem.name)\n",
        "\n",
        "\n",
        "  # function to check if a recipes ingredients are in the fridge\n",
        "  def checkForIngredients(self, recipe):\n",
        "    for i in recipe.ingredients:\n",
        "      if i.name not in self.itemNames:\n",
        "        # print('You do not have all the ingredients to make this recipe')\n",
        "        return False\n",
        "        break\n",
        "    return True\n",
        "\n",
        "  # function to remove the required quantity of an item being used in a recipe from the fridge\n",
        "  def useARecipe(self, recipe):\n",
        "    if self.checkForIngredients(recipe) is False:\n",
        "      print('You do not have all the ingredients for this recipe')\n",
        "      return False\n",
        "    ingredientsInRecipe = recipe.ingredients\n",
        "    ingredientNames = []\n",
        "    for i in ingredientsInRecipe:\n",
        "      ingredientNames.append(i.name)\n",
        "    for i in range(0,len(ingredientNames)):\n",
        "      index = self.itemNames.index(ingredientNames[i])\n",
        "      self.items[index].take_quantity(recipe.ingredients[i].quantity)"
      ]
    },
    {
      "cell_type": "code",
      "execution_count": null,
      "metadata": {
        "id": "9gqDBQpEE-AV"
      },
      "outputs": [],
      "source": [
        "i1 = Ingredient('soy sauce', 10, 'ounces')"
      ]
    },
    {
      "cell_type": "code",
      "execution_count": null,
      "metadata": {
        "colab": {
          "base_uri": "https://localhost:8080/"
        },
        "id": "aPwdLyUPFJDJ",
        "outputId": "fbf3a2e3-39cc-47ed-9187-f6e1c9659b26"
      },
      "outputs": [
        {
          "data": {
            "text/plain": [
              "14"
            ]
          },
          "execution_count": 9,
          "metadata": {},
          "output_type": "execute_result"
        }
      ],
      "source": [
        "i1.add_quantity(4)\n",
        "i1.quantity"
      ]
    },
    {
      "cell_type": "code",
      "execution_count": null,
      "metadata": {
        "id": "tlf9GodgG7Cp"
      },
      "outputs": [],
      "source": [
        "i1.remove_quantity(4)\n",
        "i1.quantity"
      ]
    },
    {
      "cell_type": "code",
      "execution_count": null,
      "metadata": {
        "colab": {
          "base_uri": "https://localhost:8080/"
        },
        "id": "ZELBWtYHy14E",
        "outputId": "b2a70bd2-a80c-430d-c652-fd5b10560a36"
      },
      "outputs": [
        {
          "name": "stdout",
          "output_type": "stream",
          "text": [
            "rice   1 cup\n",
            "soy sauce   2 tbsp\n",
            "eggs   1 none\n",
            "sugar   1 tbsp\n",
            "garlic   4 cloves\n",
            "shallot   1 none\n",
            "red thai chile   1 none\n",
            "spring onion   2 none\n",
            "seasame oil   2 tbsp\n"
          ]
        }
      ],
      "source": [
        "i3 = Ingredient('rice', 1, 'cup')\n",
        "i4 = Ingredient('soy sauce', 2, 'tbsp')\n",
        "i5 = Ingredient('eggs', 1)\n",
        "i6 = Ingredient('sugar', 1, 'tbsp')\n",
        "i7 = Ingredient('garlic', 4, 'cloves')\n",
        "i8 = Ingredient('shallot', 1)\n",
        "i9 = Ingredient('red thai chile', 1)\n",
        "i10 = Ingredient('spring onion', 2)\n",
        "i11 = Ingredient('seasame oil', 2, 'tbsp')\n",
        "friendRiceIngredients = []\n",
        "\n",
        "# adding ingredients for fried rice\n",
        "friendRiceIngredients.append(i3)\n",
        "friendRiceIngredients.append(i4)\n",
        "friendRiceIngredients.append(i5)\n",
        "friendRiceIngredients.append(i6)\n",
        "friendRiceIngredients.append(i7)\n",
        "friendRiceIngredients.append(i8)\n",
        "friendRiceIngredients.append(i9)\n",
        "friendRiceIngredients.append(i10)\n",
        "friendRiceIngredients.append(i11)\n",
        "\n",
        "for i in friendRiceIngredients:\n",
        "  print(i.name, ' ', i.quantity, i.unit)"
      ]
    },
    {
      "cell_type": "code",
      "execution_count": null,
      "metadata": {
        "id": "wkXStyVQ-AJn"
      },
      "outputs": [],
      "source": [
        "friedRiceSteps = {1:'mince garlic and shallot. set aside.', 2:'rough chop spring onion and red chile. set aside.', 3:'crack and wisk egg. set aside.', \n",
        "                   4:'heat your wok', 5:'add seasame oil to wok', 6:'fry garlic and shallot until fragrent', 7:'add whisked egg and stir', \n",
        "                   8:'when egg is almost cooked through, add rice', 9:'add rice, stiring and flattening it constantly', 10:'add soy sauce. stir', \n",
        "                   11:'when rice is almost done, add spring onion and chile. Stir for 30 seconds and serve'}"
      ]
    },
    {
      "cell_type": "markdown",
      "metadata": {
        "id": "FJUv-7QryGlg"
      },
      "source": [
        "NINER: I made some changes to the recipe class <br>\n",
        "I thought that storing the categories as booleans would be easier for a couple reasons -- Im envisioning that when we have a user add their own recipes we can do it with user input questions, and that way we can just ask \"is this recipe vegetarian\", \"is this recipe vegan\", \"is this recipe dairy free\", \"is this recipe gluten free\" etc. <br>\n",
        "\n",
        "I also opted to just make a steps dictionary, with each step being a number - string combo -- We can undo this change if we feel like it\n",
        "\n",
        "__EDIT__ Andrew: I think for now we can use booleans, but the code will get very messy especially when we add new/potential categories into the code. I'll update this when we talk with the (to be created) database team.\n",
        "Also, for some of hte quantities stored here (especially time, difficulty, spcide level), we need a clear definition of it. For instance, difficult must range from 1 to 5 (STARS), spice level must range from 0 (not displayed) to 3 (1-3 levels). Also, maybe we need to expand our ingredient list to esstencial and optional.\n",
        "\n",
        "__EDIT__ Andrew: We might use a \"try\" structure as a idiot-proof mechanism to make sure the inputed data is of the given type. I don't think print(\"self-created exception line\") is a good exception throwing mechanism. Maybe Raise Exception(\"Exception_Type\") is a better way to do it\n",
        "\n",
        "Niner: 100% agree with what Andrew said -- my coding was pretty sloppy "
      ]
    },
    {
      "cell_type": "code",
      "execution_count": null,
      "metadata": {
        "colab": {
          "base_uri": "https://localhost:8080/"
        },
        "id": "QZ6uPBuH4mOj",
        "outputId": "a8319d42-039d-4b86-fc19-43832dc528be"
      },
      "outputs": [
        {
          "name": "stdout",
          "output_type": "stream",
          "text": [
            "Egg Fried Rice\n",
            "\n",
            "List of Ingredients\n",
            "\n",
            "rice\n",
            "soy sauce\n",
            "eggs\n",
            "sugar\n",
            "garlic\n",
            "shallot\n",
            "red thai chile\n",
            "spring onion\n",
            "seasame oil\n",
            "\n",
            "List of Steps\n",
            "\n",
            "mince garlic and shallot. set aside.\n",
            "rough chop spring onion and red chile. set aside.\n",
            "crack and wisk egg. set aside.\n",
            "heat your wok\n",
            "add seasame oil to wok\n",
            "fry garlic and shallot until fragrent\n",
            "add whisked egg and stir\n",
            "when egg is almost cooked through, add rice\n",
            "add rice, stiring and flattening it constantly\n",
            "add soy sauce. stir\n",
            "when rice is almost done, add spring onion and chile. Stir for 30 seconds and serve\n"
          ]
        }
      ],
      "source": [
        "friedRice = Recipe('Egg Fried Rice', True, False, True, False, True, 2, 20, friendRiceIngredients, friedRiceSteps, 3,7,1)\n",
        "print(friedRice.name)\n",
        "print('\\nList of Ingredients\\n')\n",
        "friedRice.printRecipeIngredients()\n",
        "print('\\nList of Steps\\n')\n",
        "friedRice.printRecipeSteps()\n"
      ]
    },
    {
      "cell_type": "code",
      "execution_count": null,
      "metadata": {
        "colab": {
          "base_uri": "https://localhost:8080/"
        },
        "id": "TNlYD0ezpaHJ",
        "outputId": "8b1ed256-2c82-46eb-b5f0-68915b6d028b"
      },
      "outputs": [
        {
          "name": "stdout",
          "output_type": "stream",
          "text": [
            "Do you want to create a new Recipe?\n",
            "[y/n]\n",
            "\n",
            " >> y\n",
            "What is the name of your recipe?\n",
            "\n",
            " >> PB and J\n",
            "Is your recipe vegetarian?\n",
            "[y/n]\n",
            "\n",
            " >> y\n",
            "Is your recipe vegan?\n",
            "[y/n]\n",
            "\n",
            " >> y\n",
            "Is your recipe dairy-free?\n",
            "[y/n]\n",
            "\n",
            " >> y\n",
            "Is your recipe nut free?\n",
            "[y/n]\n",
            "\n",
            " >> n\n",
            "Is your recipe gluten-free?\n",
            "[y/n]\n",
            "\n",
            " >> n\n",
            "How difficult is your recipe?\n",
            "[1-5, 5 being hardest]\n",
            "\n",
            " >> 1\n",
            "How spicy is your recipe?\n",
            "[0-3, 3 being very very spicy, 0 being not spicy]\n",
            "\n",
            " >> 0\n",
            "How long does your recipe take to make?\n",
            "[Time in minutes]\n",
            "\n",
            " >> 5\n",
            "How many days is your recipe good for in the fridge?\n",
            "[A number of days]\n",
            "\n",
            " >> 1\n",
            "How many days is your recipe good for if you freeze it?\n",
            "[A number of days]\n",
            "\n",
            " >> 2\n",
            "What ingredients are needed for your recipe?\n",
            "[write one ingredient at a time]\n",
            "What is the name of the ingredient?\n",
            "\n",
            " >> peanut butter\n",
            "How much of this ingredient?\n",
            "[a number]\n",
            "\n",
            " >> 2\n",
            "Does this ingredient have an associated unit?\n",
            "[If not write 'n']\n",
            "\n",
            " >> tbsp\n",
            "Do you need to add more ingredients?\n",
            "[y/n]\n",
            "\n",
            " >> y\n",
            "What is the name of the ingredient?\n",
            "\n",
            " >> jelly\n",
            "How much of this ingredient?\n",
            "[a number]\n",
            "\n",
            " >> 2\n",
            "Does this ingredient have an associated unit?\n",
            "[If not write 'n']\n",
            "\n",
            " >> tbsp\n",
            "Do you need to add more ingredients?\n",
            "[y/n]\n",
            "\n",
            " >> y\n",
            "What is the name of the ingredient?\n",
            "\n",
            " >> bread\n",
            "How much of this ingredient?\n",
            "[a number]\n",
            "\n",
            " >> 2\n",
            "Does this ingredient have an associated unit?\n",
            "[If not write 'n']\n",
            "\n",
            " >> slices\n",
            "Do you need to add more ingredients?\n",
            "[y/n]\n",
            "\n",
            " >> n\n",
            "Let's write the steps for this recipe!\n",
            "What's the next step?\n",
            "[Just write the step, no special instructions!]\n",
            "\n",
            " >> put jelly on one slice\n",
            "Are there more steps?\n",
            "[y/n]\n",
            "\n",
            " >> y\n",
            "What's the next step?\n",
            "[Just write the step, no special instructions!]\n",
            "\n",
            " >> put pb on the other slice\n",
            "Are there more steps?\n",
            "[y/n]\n",
            "\n",
            " >> y\n",
            "What's the next step?\n",
            "[Just write the step, no special instructions!]\n",
            "\n",
            " >> put the slices together\n",
            "Are there more steps?\n",
            "[y/n]\n",
            "\n",
            " >> n\n",
            "You're all done!\n"
          ]
        }
      ],
      "source": [
        "pbAndJ = Recipe.createRecipe()"
      ]
    },
    {
      "cell_type": "code",
      "execution_count": null,
      "metadata": {
        "colab": {
          "base_uri": "https://localhost:8080/"
        },
        "id": "bf-AgdC_teE3",
        "outputId": "dd7d4ba1-2453-4d89-f4d3-1919898ee9e6"
      },
      "outputs": [
        {
          "name": "stdout",
          "output_type": "stream",
          "text": [
            "peanut butter\n",
            "jelly\n",
            "bread\n"
          ]
        }
      ],
      "source": [
        "pbAndJ.printRecipeIngredients()"
      ]
    },
    {
      "cell_type": "code",
      "execution_count": null,
      "metadata": {
        "colab": {
          "base_uri": "https://localhost:8080/"
        },
        "id": "TeF5W9qfWUyk",
        "outputId": "cc546ec4-1b30-45c5-8ce0-73e07b1eef8e"
      },
      "outputs": [
        {
          "name": "stdout",
          "output_type": "stream",
          "text": [
            "put jelly on one slice\n",
            "put pb on the other slice\n",
            "put the slices together\n"
          ]
        }
      ],
      "source": [
        "pbAndJ.printRecipeSteps()"
      ]
    },
    {
      "cell_type": "markdown",
      "metadata": {
        "id": "yvDafqIk9HsR"
      },
      "source": [
        "I believe that the unit conversion could potentially happen in two places: one in the FridgeIngredient class (where it will be converted before storing into the fridge), and another possibly in the global recipe class (to convert units between metric/imperial if that's a demand)"
      ]
    },
    {
      "cell_type": "code",
      "execution_count": null,
      "metadata": {
        "id": "ytWi23CFAoPD"
      },
      "outputs": [],
      "source": [
        "iF1 = FridgeIngredient('peanut butter', 32, 'tbsp', 60, 'pantry')\n",
        "iF2 = FridgeIngredient('jelly', 32, 'tbsp', 60, 'pantry' )\n",
        "fridgeList = [iF1, iF2]"
      ]
    },
    {
      "cell_type": "code",
      "execution_count": null,
      "metadata": {
        "colab": {
          "base_uri": "https://localhost:8080/"
        },
        "id": "AFNjNQwoAa4G",
        "outputId": "5693d585-5654-45a8-c0fb-c27c0a16353a"
      },
      "outputs": [
        {
          "data": {
            "text/plain": [
              "['peanut butter', 'jelly']"
            ]
          },
          "execution_count": 52,
          "metadata": {},
          "output_type": "execute_result"
        }
      ],
      "source": [
        "testFridge = Fridge(fridgeList)\n",
        "testFridge.itemNames"
      ]
    },
    {
      "cell_type": "code",
      "execution_count": null,
      "metadata": {
        "colab": {
          "base_uri": "https://localhost:8080/"
        },
        "id": "QikiqhJ8BcO0",
        "outputId": "a922058e-1f9b-4f69-ba53-6c7c5a7b9735"
      },
      "outputs": [
        {
          "data": {
            "text/plain": [
              "False"
            ]
          },
          "execution_count": 53,
          "metadata": {},
          "output_type": "execute_result"
        }
      ],
      "source": [
        "testFridge.checkForIngredients(pbAndJ)"
      ]
    },
    {
      "cell_type": "code",
      "execution_count": null,
      "metadata": {
        "colab": {
          "base_uri": "https://localhost:8080/",
          "height": 37
        },
        "id": "5cTPWq5WDJAs",
        "outputId": "42abc66d-0a77-47df-de91-af66477911d9"
      },
      "outputs": [
        {
          "data": {
            "application/vnd.google.colaboratory.intrinsic+json": {
              "type": "string"
            },
            "text/plain": [
              "'bread'"
            ]
          },
          "execution_count": 54,
          "metadata": {},
          "output_type": "execute_result"
        }
      ],
      "source": [
        "iF3 = FridgeIngredient('bRead',12, 'slices', 7, 'pantry')\n",
        "testFridge.addItem(iF3)\n",
        "iF3.name"
      ]
    },
    {
      "cell_type": "code",
      "execution_count": null,
      "metadata": {
        "colab": {
          "base_uri": "https://localhost:8080/"
        },
        "id": "1Bl8Q5NmENjk",
        "outputId": "24c2175b-cf16-4d45-922b-724199d0e0cf"
      },
      "outputs": [
        {
          "data": {
            "text/plain": [
              "True"
            ]
          },
          "execution_count": 55,
          "metadata": {},
          "output_type": "execute_result"
        }
      ],
      "source": [
        "testFridge.checkForIngredients(pbAndJ)"
      ]
    },
    {
      "cell_type": "code",
      "execution_count": null,
      "metadata": {
        "colab": {
          "base_uri": "https://localhost:8080/"
        },
        "id": "vgpGw5-jEjhi",
        "outputId": "25bbe4fe-4007-4b47-ef81-823db215b5a9"
      },
      "outputs": [
        {
          "name": "stdout",
          "output_type": "stream",
          "text": [
            "peanut butter 32\n",
            "jelly 32\n",
            "bread 12\n"
          ]
        }
      ],
      "source": [
        "print(testFridge.items[0].name,testFridge.items[0].quantity)\n",
        "print(testFridge.items[1].name,testFridge.items[1].quantity)\n",
        "print(testFridge.items[2].name,testFridge.items[2].quantity)"
      ]
    },
    {
      "cell_type": "code",
      "execution_count": null,
      "metadata": {
        "id": "s-noFg9aJvjw"
      },
      "outputs": [],
      "source": [
        "testFridge.useARecipe(pbAndJ)"
      ]
    },
    {
      "cell_type": "code",
      "execution_count": null,
      "metadata": {
        "colab": {
          "base_uri": "https://localhost:8080/"
        },
        "id": "fERl6V8kJzjg",
        "outputId": "a328d396-c827-4773-ba9b-093144932721"
      },
      "outputs": [
        {
          "name": "stdout",
          "output_type": "stream",
          "text": [
            "peanut butter 30\n",
            "jelly 30\n",
            "bread 10\n"
          ]
        }
      ],
      "source": [
        "print(testFridge.items[0].name,testFridge.items[0].quantity)\n",
        "print(testFridge.items[1].name,testFridge.items[1].quantity)\n",
        "print(testFridge.items[2].name,testFridge.items[2].quantity)"
      ]
    },
    {
      "cell_type": "code",
      "execution_count": null,
      "metadata": {
        "id": "V6294we8IgZ7"
      },
      "outputs": [],
      "source": []
    }
  ],
  "metadata": {
    "colab": {
      "collapsed_sections": [],
      "include_colab_link": true,
      "provenance": []
    },
    "kernelspec": {
      "display_name": "Python 3.9.6 64-bit",
      "language": "python",
      "name": "python3"
    },
    "language_info": {
      "name": "python",
      "version": "3.9.6"
    },
    "vscode": {
      "interpreter": {
        "hash": "31f2aee4e71d21fbe5cf8b01ff0e069b9275f58929596ceb00d14d90e3e16cd6"
      }
    }
  },
  "nbformat": 4,
  "nbformat_minor": 0
}
